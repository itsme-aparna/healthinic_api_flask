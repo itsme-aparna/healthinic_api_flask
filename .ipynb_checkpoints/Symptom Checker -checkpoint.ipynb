{
 "cells": [
  {
   "cell_type": "code",
   "execution_count": 1,
   "metadata": {},
   "outputs": [],
   "source": [
    "import pandas as pd\n",
    "import matplotlib.pyplot as plt \n",
    "from numpy import *\n",
    "import seaborn as sns\n",
    "%matplotlib inline "
   ]
  },
  {
   "cell_type": "code",
   "execution_count": 2,
   "metadata": {},
   "outputs": [],
   "source": [
    "train_df = pd.read_csv(\"C:\\\\Users\\\\user\\\\Desktop\\\\Symptom to disease\\\\model\\\\Training.csv\")\n",
    "test_df = pd.read_csv(\"C:\\\\Users\\\\user\\\\Desktop\\\\Symptom to disease\\model\\\\Testing.csv\")"
   ]
  },
  {
   "cell_type": "code",
   "execution_count": 3,
   "metadata": {},
   "outputs": [
    {
     "data": {
      "text/plain": [
       "((4920, 133), (41, 133))"
      ]
     },
     "execution_count": 3,
     "metadata": {},
     "output_type": "execute_result"
    }
   ],
   "source": [
    "train_df.shape , test_df.shape"
   ]
  },
  {
   "cell_type": "code",
   "execution_count": 4,
   "metadata": {},
   "outputs": [],
   "source": [
    "df1= train_df.sample(frac=1 , random_state = 0)"
   ]
  },
  {
   "cell_type": "code",
   "execution_count": 5,
   "metadata": {},
   "outputs": [
    {
     "data": {
      "text/plain": [
       "41"
      ]
     },
     "execution_count": 5,
     "metadata": {},
     "output_type": "execute_result"
    }
   ],
   "source": [
    "len(df1[\"prognosis\"].unique())"
   ]
  },
  {
   "cell_type": "code",
   "execution_count": 6,
   "metadata": {},
   "outputs": [],
   "source": [
    "disease_dict = {\n",
    "       'AIDS': 0,\n",
    "       'Jaundice' : 1,\n",
    "       'Paralysis (brain hemorrhage)' : 2,\n",
    "       'Hepatitis D' : 3,\n",
    "       'Urinary tract infection' : 4,\n",
    "       'Hypertension ' : 5,\n",
    "       'Hepatitis B' : 6,\n",
    "       'hepatitis A': 7,\n",
    "       'Dimorphic hemmorhoids(piles)' : 8,\n",
    "       'Common Cold' : 9,\n",
    "       'Impetigo' : 10,\n",
    "       'Peptic ulcer diseae' : 11,\n",
    "       'Gastroenteritis': 12,\n",
    "       'Psoriasis' : 13,\n",
    "       'Fungal infection' : 14,\n",
    "       'Hyperthyroidism' : 15,\n",
    "       'Heart attack' : 16,\n",
    "       'Chronic cholestasis' : 17,\n",
    "       'Bronchial Asthma' : 18,\n",
    "       'GERD' : 19,\n",
    "       'Allergy' : 20,\n",
    "       'Pneumonia': 21,\n",
    "       'Acne': 22,\n",
    "       'Arthritis': 23,\n",
    "       'Chicken pox': 24,\n",
    "       'Alcoholic hepatitis' : 25,\n",
    "       'Hypothyroidism' : 26,\n",
    "       'Diabetes ': 27,\n",
    "       'Varicose veins': 28,\n",
    "       '(vertigo) Paroymsal  Positional Vertigo' : 29,\n",
    "       'Drug Reaction': 30,\n",
    "       'Malaria': 31,\n",
    "       'Hepatitis E': 32,\n",
    "       'Migraine': 33,\n",
    "       'Osteoarthristis': 34,\n",
    "       'Hypoglycemia': 35,\n",
    "       'Tuberculosis': 36,\n",
    "       'Typhoid': 37,\n",
    "       'Hepatitis C' : 38,\n",
    "       'Dengue': 39,\n",
    "       'Cervical spondylosis': 40\n",
    "}\n",
    "\n",
    "disease = list(disease_dict.keys())\n",
    "index = list(disease_dict.values())"
   ]
  },
  {
   "cell_type": "code",
   "execution_count": 7,
   "metadata": {},
   "outputs": [],
   "source": [
    "df1[\"prognosis_class\"] = train_df[\"prognosis\"].map(disease_dict)"
   ]
  },
  {
   "cell_type": "code",
   "execution_count": 8,
   "metadata": {},
   "outputs": [
    {
     "data": {
      "text/plain": [
       "((4920, 132), (4920,))"
      ]
     },
     "execution_count": 8,
     "metadata": {},
     "output_type": "execute_result"
    }
   ],
   "source": [
    "X = df1.drop([\"prognosis\" , \"prognosis_class\"] , axis = 1)\n",
    "y = array(df1.prognosis_class)\n",
    "\n",
    "X.shape , y.shape"
   ]
  },
  {
   "cell_type": "code",
   "execution_count": 9,
   "metadata": {},
   "outputs": [],
   "source": [
    "from sklearn.model_selection import train_test_split\n",
    "x_train , x_test , y_train , y_test = train_test_split(X , y , test_size = 0.2 , shuffle = True , random_state = 0)"
   ]
  },
  {
   "cell_type": "code",
   "execution_count": 10,
   "metadata": {},
   "outputs": [
    {
     "data": {
      "text/plain": [
       "1.0"
      ]
     },
     "execution_count": 10,
     "metadata": {},
     "output_type": "execute_result"
    }
   ],
   "source": [
    "from sklearn.ensemble import RandomForestClassifier\n",
    "model = RandomForestClassifier(n_estimators = 100)\n",
    "model.fit(x_train , y_train)\n",
    "model.score (x_test , y_test)"
   ]
  },
  {
   "cell_type": "code",
   "execution_count": 41,
   "metadata": {},
   "outputs": [],
   "source": [
    "def predict_disease(x):\n",
    "    z = zeros((1,132))\n",
    "    for i in  x:\n",
    "        t = 0\n",
    "        for j in x_train.columns : \n",
    "            if i == j : \n",
    "                z[0][t] = 1 \n",
    "            else : \n",
    "                pass \n",
    "            t = t + 1\n",
    "    return model.predict(z)\n"
   ]
  },
  {
   "cell_type": "code",
   "execution_count": 12,
   "metadata": {},
   "outputs": [],
   "source": [
    "import pickle \n",
    "with open(\"symptom_to_disease_model\" , \"wb\") as f: \n",
    "    pickle.dump(model,f)"
   ]
  },
  {
   "cell_type": "code",
   "execution_count": 13,
   "metadata": {},
   "outputs": [],
   "source": [
    "import json\n",
    "columns = {\n",
    "    \"data_columns\" : [col for col in X.columns]\n",
    "}\n",
    "\n",
    "with open(\"columns.json\",\"w\") as f :\n",
    "    f.write(json.dumps(columns))"
   ]
  },
  {
   "cell_type": "code",
   "execution_count": null,
   "metadata": {},
   "outputs": [],
   "source": []
  }
 ],
 "metadata": {
  "kernelspec": {
   "display_name": "Python 3",
   "language": "python",
   "name": "python3"
  },
  "language_info": {
   "codemirror_mode": {
    "name": "ipython",
    "version": 3
   },
   "file_extension": ".py",
   "mimetype": "text/x-python",
   "name": "python",
   "nbconvert_exporter": "python",
   "pygments_lexer": "ipython3",
   "version": "3.7.7"
  }
 },
 "nbformat": 4,
 "nbformat_minor": 4
}
